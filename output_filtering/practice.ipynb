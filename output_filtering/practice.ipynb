{
 "cells": [
  {
   "cell_type": "code",
   "execution_count": 1,
   "id": "bf6dc7f4",
   "metadata": {},
   "outputs": [],
   "source": [
    "# !pip install selenium pandas openpyxl"
   ]
  },
  {
   "cell_type": "code",
   "execution_count": 2,
   "id": "e54058db",
   "metadata": {},
   "outputs": [],
   "source": [
    "from selenium import webdriver\n",
    "from selenium.webdriver.common.keys import Keys\n",
    "from selenium.webdriver.common.by import By\n",
    "import time\n",
    "import pandas as pd"
   ]
  },
  {
   "cell_type": "code",
   "execution_count": 3,
   "id": "14e1ec29",
   "metadata": {},
   "outputs": [],
   "source": [
    "# 웹 사이트 자동 실행\n",
    "driver = webdriver.Chrome()\n",
    "driver.get('https://www.childcare.go.kr/?menuno=287')\n",
    "time.sleep(1)"
   ]
  },
  {
   "cell_type": "code",
   "execution_count": 4,
   "id": "7c054378",
   "metadata": {},
   "outputs": [],
   "source": [
    "xpath_list = ['//*[@id=\"contents\"]/ul[1]/li[1]', '//*[@id=\"contents\"]/ul[1]/li[2]']\n",
    "class_list = ['title_line', 'txt', 'board break_all mt20', 'board t_center break_all mt20']"
   ]
  },
  {
   "cell_type": "code",
   "execution_count": 5,
   "id": "03f7ea51",
   "metadata": {},
   "outputs": [],
   "source": [
    "# 검색 및 탭 이동\n",
    "# search = driver.find_element(By.ID, \"query\")\n",
    "# search.send_keys('아이 행동 분석')\n",
    "# search.send_keys(Keys.RETURN)\n",
    "# time.sleep(1)\n",
    "\n",
    "for i in range(2):\n",
    "    button = driver.find_element(By.XPATH, xpath_list[i])\n",
    "    button.click()\n",
    "    time.sleep(1)"
   ]
  },
  {
   "cell_type": "code",
   "execution_count": 6,
   "id": "79589485",
   "metadata": {},
   "outputs": [],
   "source": [
    "# 스크롤\n",
    "for _ in range(3):\n",
    "    body = driver.find_element(By.TAG_NAME, \"body\")\n",
    "    body.send_keys(Keys.END)\n",
    "    time.sleep(1)"
   ]
  },
  {
   "cell_type": "code",
   "execution_count": null,
   "id": "9707fb7f",
   "metadata": {},
   "outputs": [
    {
     "name": "stdout",
     "output_type": "stream",
     "text": [
      "['이른둥이의 발달을 잘 지켜보세요', '하나 둘 하나 둘! 발달을 도와주는 이른둥이 운동법', '이른둥이에서 생길 수 있는 인지/행동/정서 문제', '놀면서 배워요']\n",
      "['발달 이정표를 보고 매달 발달 영역에서 성취하는 것들을 기록해 두세요. 평소에 작성해 놓은 발달 일기는 소아청소년과나\\n정신건강의학과, 영유아 발달 센터 등을 방문했을 때 중요한 정보를 제공할 수 있습니다.', '아기가 바로 누운 자세에서 어깨가 올라가지 않도록 한 손으로 어깨를 고정하고 다른 손으로 아이의 손목을 잡고 팔꿈치가 쭉 펴진 상태에서 한 손을 머리 위로 올립니다.', '아기가 바로 누운 자세에서 어깨가 올라가지 않도록 한 손으로 어깨를 고정하고 다른 손으로 아이의 손목을 잡고 반대쪽 팔 쪽으로 몸통을 가로질러 팔을 구부려줍니다.', '아이가 바로 누운 자세에서 몸통으로부터 팔을 옆으로 90도 정도 벌리고 팔꿈치를 구부린 후 아이의 손목을 잡고 위로 올렸다가 아래로 내려줍니다.', '아이가 바로 누운 자세에서 어깨가 올라가지 않도록 한 손으로 어깨를 고정하고 다른 손으로 아이의 손목을 잡고 몸통으로부터 옆쪽으로 멀리 팔을 벌려줍니다.', '아이가 바로 누운 자세에서 한 손으로 아이의 엉덩이 위쪽을 고정해 주며 다른 손으로는 무릎 밑을 잡아줍니다. 아이의 다리를 위로 올려줍니다.', '아이가 누운 자세에서 한 손으로 아이의 골반을 고정하고 다른 손으로는 발뒤꿈치를 잡습니다. 아이의 다리를 옆으로 벌리고 그런 다음 아이의 다리를 반대편 다리에 붙여줍니다.', '아이가 누운 자세에서 아이의 고관절과 무릎관절을 90도 정도 구부립니다. 한 손으로 아이의 무릎 위 부분을 고정하고 다른 손으로는 아이의 발뒤꿈치를 잡아줍니다. 무릎이 안으로 돌아가도록 발뒤꿈치를 바깥쪽으로, 그런 다음 안쪽으로 돌려줍니다.', '놀이는 육아의 중요한 부분이며, 부모-자식 관계 형성의 좋은 방법입니다. 아기는 놀이를 통해 의사소통과 상호작용을 배워 나가고 이는 아기의 뇌 발달에 중요합니다. 아기에게 부모가 아기와의 상호작용을 즐거워한다는 것을 알려줌으로써 안정감을 느끼도록 해주며 아기는 이를 토대로 다른 사람들과의 관계도 맺어갈 수 있습니다.\\n교정 연령으로 18개월까지는 TV, 컴퓨터, 디지털 장비 등 미디어에 노출되지 않도록 하는 것이 좋습니다. 이 시기까지 아기들은 부모와 상호 작용하면서 창의적인 놀이를 통해 인지, 언어, 운동, 사회 정서적 능력을 발달시켜야 하기 때문입니다. 신경 발달 촉진을 위해, 세계 보건 기구(WHO)는 생후 1세 이전의 아기는 엎드려서 하루 30분 이상 (터미 타임, tummy time) 보내는 것을 포함하여 하루에도 수 차례 활동적인 시간을 보내는 것을 권장하고, 유아차, 유아 의자, 부모의 등에 업혀 있는 등 위치가 고정되는 비활동적인 시간을 하루 1시간 이내로 제한하도록 권장합니다.', '아기가 바로 누운 자세에서 어깨가 올라가지 않도록 한 손으로 어깨를 고정하고 다른 손으로 아이의 손목을 잡고 반대쪽 팔 쪽으로 몸통을 가로질러 팔을 구부려줍니다.']\n"
     ]
    },
    {
     "ename": "InvalidSessionIdException",
     "evalue": "Message: invalid session id\nStacktrace:\n\tGetHandleVerifier [0x00007FF65046EFA5+77893]\n\tGetHandleVerifier [0x00007FF65046F000+77984]\n\t(No symbol) [0x00007FF650238FEC]\n\t(No symbol) [0x00007FF65027F44F]\n\t(No symbol) [0x00007FF6502B6FF2]\n\t(No symbol) [0x00007FF6502B1A02]\n\t(No symbol) [0x00007FF6502B0AC9]\n\t(No symbol) [0x00007FF650205AB5]\n\tGetHandleVerifier [0x00007FF650727B6D+2931725]\n\tGetHandleVerifier [0x00007FF650722132+2908626]\n\tGetHandleVerifier [0x00007FF6507400F3+3031443]\n\tGetHandleVerifier [0x00007FF6504891EA+184970]\n\tGetHandleVerifier [0x00007FF65049086F+215311]\n\t(No symbol) [0x00007FF650204B2C]\n\tGetHandleVerifier [0x00007FF650832518+4023736]\n\tBaseThreadInitThunk [0x00007FF8D336E8D7+23]\n\tRtlUserThreadStart [0x00007FF8D3D714FC+44]\n",
     "output_type": "error",
     "traceback": [
      "\u001b[1;31m---------------------------------------------------------------------------\u001b[0m",
      "\u001b[1;31mInvalidSessionIdException\u001b[0m                 Traceback (most recent call last)",
      "Cell \u001b[1;32mIn[7], line 20\u001b[0m\n\u001b[0;32m     17\u001b[0m df \u001b[38;5;241m=\u001b[39m pd\u001b[38;5;241m.\u001b[39mDataFrame({\u001b[38;5;124m'\u001b[39m\u001b[38;5;124m제목\u001b[39m\u001b[38;5;124m'\u001b[39m: title_list, \u001b[38;5;124m'\u001b[39m\u001b[38;5;124m내용\u001b[39m\u001b[38;5;124m'\u001b[39m: text_list})\n\u001b[0;32m     19\u001b[0m driver\u001b[38;5;241m.\u001b[39mclose()\n\u001b[1;32m---> 20\u001b[0m driver\u001b[38;5;241m.\u001b[39mswitch_to\u001b[38;5;241m.\u001b[39mwindow(\u001b[43mdriver\u001b[49m\u001b[38;5;241;43m.\u001b[39;49m\u001b[43mwindow_handles\u001b[49m[\u001b[38;5;241m0\u001b[39m])\n\u001b[0;32m     21\u001b[0m time\u001b[38;5;241m.\u001b[39msleep(\u001b[38;5;241m1\u001b[39m)\n\u001b[0;32m     22\u001b[0m \u001b[38;5;66;03m# 7. 파일로 저장\u001b[39;00m\n",
      "File \u001b[1;32mc:\\Users\\junhe\\anaconda3\\envs\\vectordb_env\\lib\\site-packages\\selenium\\webdriver\\remote\\webdriver.py:631\u001b[0m, in \u001b[0;36mWebDriver.window_handles\u001b[1;34m(self)\u001b[0m\n\u001b[0;32m    623\u001b[0m \u001b[38;5;129m@property\u001b[39m\n\u001b[0;32m    624\u001b[0m \u001b[38;5;28;01mdef\u001b[39;00m\u001b[38;5;250m \u001b[39m\u001b[38;5;21mwindow_handles\u001b[39m(\u001b[38;5;28mself\u001b[39m) \u001b[38;5;241m-\u001b[39m\u001b[38;5;241m>\u001b[39m List[\u001b[38;5;28mstr\u001b[39m]:\n\u001b[0;32m    625\u001b[0m \u001b[38;5;250m    \u001b[39m\u001b[38;5;124;03m\"\"\"Returns the handles of all windows within the current session.\u001b[39;00m\n\u001b[0;32m    626\u001b[0m \n\u001b[0;32m    627\u001b[0m \u001b[38;5;124;03m    Example:\u001b[39;00m\n\u001b[0;32m    628\u001b[0m \u001b[38;5;124;03m    --------\u001b[39;00m\n\u001b[0;32m    629\u001b[0m \u001b[38;5;124;03m    >>> print(driver.window_handles)\u001b[39;00m\n\u001b[0;32m    630\u001b[0m \u001b[38;5;124;03m    \"\"\"\u001b[39;00m\n\u001b[1;32m--> 631\u001b[0m     \u001b[38;5;28;01mreturn\u001b[39;00m \u001b[38;5;28;43mself\u001b[39;49m\u001b[38;5;241;43m.\u001b[39;49m\u001b[43mexecute\u001b[49m\u001b[43m(\u001b[49m\u001b[43mCommand\u001b[49m\u001b[38;5;241;43m.\u001b[39;49m\u001b[43mW3C_GET_WINDOW_HANDLES\u001b[49m\u001b[43m)\u001b[49m[\u001b[38;5;124m\"\u001b[39m\u001b[38;5;124mvalue\u001b[39m\u001b[38;5;124m\"\u001b[39m]\n",
      "File \u001b[1;32mc:\\Users\\junhe\\anaconda3\\envs\\vectordb_env\\lib\\site-packages\\selenium\\webdriver\\remote\\webdriver.py:448\u001b[0m, in \u001b[0;36mWebDriver.execute\u001b[1;34m(self, driver_command, params)\u001b[0m\n\u001b[0;32m    446\u001b[0m response \u001b[38;5;241m=\u001b[39m \u001b[38;5;28mself\u001b[39m\u001b[38;5;241m.\u001b[39mcommand_executor\u001b[38;5;241m.\u001b[39mexecute(driver_command, params)\n\u001b[0;32m    447\u001b[0m \u001b[38;5;28;01mif\u001b[39;00m response:\n\u001b[1;32m--> 448\u001b[0m     \u001b[38;5;28;43mself\u001b[39;49m\u001b[38;5;241;43m.\u001b[39;49m\u001b[43merror_handler\u001b[49m\u001b[38;5;241;43m.\u001b[39;49m\u001b[43mcheck_response\u001b[49m\u001b[43m(\u001b[49m\u001b[43mresponse\u001b[49m\u001b[43m)\u001b[49m\n\u001b[0;32m    449\u001b[0m     response[\u001b[38;5;124m\"\u001b[39m\u001b[38;5;124mvalue\u001b[39m\u001b[38;5;124m\"\u001b[39m] \u001b[38;5;241m=\u001b[39m \u001b[38;5;28mself\u001b[39m\u001b[38;5;241m.\u001b[39m_unwrap_value(response\u001b[38;5;241m.\u001b[39mget(\u001b[38;5;124m\"\u001b[39m\u001b[38;5;124mvalue\u001b[39m\u001b[38;5;124m\"\u001b[39m, \u001b[38;5;28;01mNone\u001b[39;00m))\n\u001b[0;32m    450\u001b[0m     \u001b[38;5;28;01mreturn\u001b[39;00m response\n",
      "File \u001b[1;32mc:\\Users\\junhe\\anaconda3\\envs\\vectordb_env\\lib\\site-packages\\selenium\\webdriver\\remote\\errorhandler.py:232\u001b[0m, in \u001b[0;36mErrorHandler.check_response\u001b[1;34m(self, response)\u001b[0m\n\u001b[0;32m    230\u001b[0m         alert_text \u001b[38;5;241m=\u001b[39m value[\u001b[38;5;124m\"\u001b[39m\u001b[38;5;124malert\u001b[39m\u001b[38;5;124m\"\u001b[39m]\u001b[38;5;241m.\u001b[39mget(\u001b[38;5;124m\"\u001b[39m\u001b[38;5;124mtext\u001b[39m\u001b[38;5;124m\"\u001b[39m)\n\u001b[0;32m    231\u001b[0m     \u001b[38;5;28;01mraise\u001b[39;00m exception_class(message, screen, stacktrace, alert_text)  \u001b[38;5;66;03m# type: ignore[call-arg]  # mypy is not smart enough here\u001b[39;00m\n\u001b[1;32m--> 232\u001b[0m \u001b[38;5;28;01mraise\u001b[39;00m exception_class(message, screen, stacktrace)\n",
      "\u001b[1;31mInvalidSessionIdException\u001b[0m: Message: invalid session id\nStacktrace:\n\tGetHandleVerifier [0x00007FF65046EFA5+77893]\n\tGetHandleVerifier [0x00007FF65046F000+77984]\n\t(No symbol) [0x00007FF650238FEC]\n\t(No symbol) [0x00007FF65027F44F]\n\t(No symbol) [0x00007FF6502B6FF2]\n\t(No symbol) [0x00007FF6502B1A02]\n\t(No symbol) [0x00007FF6502B0AC9]\n\t(No symbol) [0x00007FF650205AB5]\n\tGetHandleVerifier [0x00007FF650727B6D+2931725]\n\tGetHandleVerifier [0x00007FF650722132+2908626]\n\tGetHandleVerifier [0x00007FF6507400F3+3031443]\n\tGetHandleVerifier [0x00007FF6504891EA+184970]\n\tGetHandleVerifier [0x00007FF65049086F+215311]\n\t(No symbol) [0x00007FF650204B2C]\n\tGetHandleVerifier [0x00007FF650832518+4023736]\n\tBaseThreadInitThunk [0x00007FF8D336E8D7+23]\n\tRtlUserThreadStart [0x00007FF8D3D714FC+44]\n"
     ]
    }
   ],
   "source": [
    "# 특정 요소 접근 및 데이터 저장\n",
    "titles = driver.find_elements(By.CLASS_NAME, class_list[0])\n",
    "texts = driver.find_elements(By.CLASS_NAME, class_list[1])\n",
    "\n",
    "# 5. 텍스트만 추출\n",
    "title_list = [title.text.strip() for title in titles if title.text.strip()]\n",
    "text_list = [txt.text.strip() for txt in texts if txt.text.strip()]\n",
    "\n",
    "print(title_list)\n",
    "print(text_list)\n",
    "\n",
    "# 길이 맞추기(중요! zip함수 사용시 짧은 문자열에 맞춰서 출력. 길이가 다르면 데이터프레임이 생성 안됨)\n",
    "max_len = max(len(title_list), len(text_list))\n",
    "title_list += [''] * (max_len - len(title_list))\n",
    "text_list += [''] * (max_len - len(text_list))\n",
    "\n",
    "df = pd.DataFrame({'제목': title_list, '내용': text_list})\n",
    "\n",
    "# 7. 파일로 저장\n",
    "df.to_csv('이른둥이정보.csv', index=False, encoding='utf-8')\n",
    "# df.to_excel('이른둥이정보.xlsx', index=False)\n",
    "\n",
    "# 8. 종료\n",
    "driver.quit()\n",
    "print(\"크롤링 완료!\")\n"
   ]
  }
 ],
 "metadata": {
  "kernelspec": {
   "display_name": "vectordb_env",
   "language": "python",
   "name": "python3"
  },
  "language_info": {
   "codemirror_mode": {
    "name": "ipython",
    "version": 3
   },
   "file_extension": ".py",
   "mimetype": "text/x-python",
   "name": "python",
   "nbconvert_exporter": "python",
   "pygments_lexer": "ipython3",
   "version": "3.9.21"
  }
 },
 "nbformat": 4,
 "nbformat_minor": 5
}
